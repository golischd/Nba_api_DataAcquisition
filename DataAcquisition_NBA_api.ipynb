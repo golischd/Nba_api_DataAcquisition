{
 "cells": [
  {
   "cell_type": "code",
   "execution_count": null,
   "id": "2293788a",
   "metadata": {
    "scrolled": true
   },
   "outputs": [
    {
     "name": "stderr",
     "output_type": "stream",
     "text": [
      " 58%|████████████████████████████████████████████▏                               | 2849/4900 [1:13:21<47:17,  1.38s/it]"
     ]
    }
   ],
   "source": [
    "import pandas as pd\n",
    "from nba_api.stats.static import players\n",
    "from nba_api.stats.endpoints import playergamelog\n",
    "from tqdm import tqdm\n",
    "import time\n",
    "\n",
    "def get_all_players_game_stats(season):\n",
    "\n",
    "\n",
    "    # Get all players\n",
    "    all_players = players.get_players()\n",
    "\n",
    "    # DataFrame to store all player stats\n",
    "    all_player_stats = pd.DataFrame()\n",
    "\n",
    "    for player in tqdm(all_players):\n",
    "        player_id = player['id']\n",
    "        player_name = player['full_name']\n",
    "\n",
    "        try:\n",
    "            # Retrieve player game log for the specified season\n",
    "            gamelog = playergamelog.PlayerGameLog(player_id=player_id, season=season)\n",
    "            player_stats = gamelog.get_data_frames()[0]\n",
    "\n",
    "            # Add player name, ID, and season for reference\n",
    "            player_stats['Player Name'] = player_name\n",
    "            player_stats['Player ID'] = player_id\n",
    "            player_stats['Season'] = season\n",
    "\n",
    "            # Append to the main DataFrame\n",
    "            all_player_stats = pd.concat([all_player_stats, player_stats], ignore_index=True)\n",
    "\n",
    "            # Sleep to avoid hitting the rate limit\n",
    "            time.sleep(0.6)\n",
    "\n",
    "        except Exception as e:\n",
    "            print(f\"Error fetching data for player {player_name} in season {season}: {e}\")\n",
    "\n",
    "    return all_player_stats\n",
    "\n",
    "def generate_nba_seasons(start_year, end_year):\n",
    "    seasons = []\n",
    "\n",
    "    for year in range(start_year, end_year):\n",
    "        # For each year, the NBA season is from year to year+1\n",
    "        season = f\"{year}-{str(year+1)[-2:]}\"\n",
    "        seasons.append(season)\n",
    "\n",
    "    return seasons\n",
    "\n",
    "\n",
    "# Define the seasons you are interested in\n",
    "seasons = generate_nba_seasons(2022, 2023)\n",
    "\n",
    "# Fetch all player game stats for the defined seasons\n",
    "for season in seasons:\n",
    "    all_player_game_stats = get_all_players_game_stats(season)\n",
    "    all_player_game_stats_sorted = all_player_game_stats.sort_values(by='GAME_DATE') #sort by date\n",
    "    all_player_game_stats.to_csv(f\"all_player_game_stats_season_{season}\", index=False)\n",
    "\n",
    "print(\"Complete\")"
   ]
  },
  {
   "cell_type": "code",
   "execution_count": null,
   "id": "edeb0873",
   "metadata": {},
   "outputs": [],
   "source": []
  }
 ],
 "metadata": {
  "kernelspec": {
   "display_name": "Python 3 (ipykernel)",
   "language": "python",
   "name": "python3"
  },
  "language_info": {
   "codemirror_mode": {
    "name": "ipython",
    "version": 3
   },
   "file_extension": ".py",
   "mimetype": "text/x-python",
   "name": "python",
   "nbconvert_exporter": "python",
   "pygments_lexer": "ipython3",
   "version": "3.11.5"
  }
 },
 "nbformat": 4,
 "nbformat_minor": 5
}
